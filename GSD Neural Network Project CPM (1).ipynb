{
 "cells": [
  {
   "cell_type": "markdown",
   "id": "b030ad12",
   "metadata": {},
   "source": [
    "### Part 1. 1 a - Read the ‘Signals.csv’ as DataFrame and import required libraries."
   ]
  },
  {
   "cell_type": "code",
   "execution_count": 109,
   "id": "b09e0cb4",
   "metadata": {},
   "outputs": [],
   "source": [
    "import pandas as pd\n",
    "# Ignore the warnings\n",
    "import warnings\n",
    "warnings.filterwarnings(\"ignore\")"
   ]
  },
  {
   "cell_type": "code",
   "execution_count": 110,
   "id": "96a2bc56",
   "metadata": {},
   "outputs": [],
   "source": [
    "signal_data = pd.read_excel(\"Q1Q2Q3_OR_FM_merged.xlsx\")"
   ]
  },
  {
   "cell_type": "code",
   "execution_count": 111,
   "id": "b468d4c7",
   "metadata": {},
   "outputs": [],
   "source": [
    "signal_data = signal_data.drop(\"TIME\",axis=1)"
   ]
  },
  {
   "cell_type": "code",
   "execution_count": 112,
   "id": "3be8095f",
   "metadata": {},
   "outputs": [
    {
     "data": {
      "text/html": [
       "<div>\n",
       "<style scoped>\n",
       "    .dataframe tbody tr th:only-of-type {\n",
       "        vertical-align: middle;\n",
       "    }\n",
       "\n",
       "    .dataframe tbody tr th {\n",
       "        vertical-align: top;\n",
       "    }\n",
       "\n",
       "    .dataframe thead th {\n",
       "        text-align: right;\n",
       "    }\n",
       "</style>\n",
       "<table border=\"1\" class=\"dataframe\">\n",
       "  <thead>\n",
       "    <tr style=\"text-align: right;\">\n",
       "      <th></th>\n",
       "      <th>CASING</th>\n",
       "      <th>C_TEMP</th>\n",
       "      <th>IMPELLER</th>\n",
       "      <th>I_TEMP</th>\n",
       "      <th>BEARING</th>\n",
       "      <th>B_TEMP</th>\n",
       "      <th>FLOW</th>\n",
       "      <th>PRESSURE</th>\n",
       "      <th>DC_RA</th>\n",
       "      <th>CURRENT</th>\n",
       "      <th>VOLTAGE</th>\n",
       "      <th>CONDITION</th>\n",
       "    </tr>\n",
       "  </thead>\n",
       "  <tbody>\n",
       "    <tr>\n",
       "      <th>0</th>\n",
       "      <td>491.0</td>\n",
       "      <td>28</td>\n",
       "      <td>492.0</td>\n",
       "      <td>29</td>\n",
       "      <td>484.0</td>\n",
       "      <td>31</td>\n",
       "      <td>158.4</td>\n",
       "      <td>28.1</td>\n",
       "      <td>4.332</td>\n",
       "      <td>1.85</td>\n",
       "      <td>142</td>\n",
       "      <td>GHC</td>\n",
       "    </tr>\n",
       "    <tr>\n",
       "      <th>1</th>\n",
       "      <td>493.0</td>\n",
       "      <td>28</td>\n",
       "      <td>496.0</td>\n",
       "      <td>29</td>\n",
       "      <td>497.0</td>\n",
       "      <td>31</td>\n",
       "      <td>158.4</td>\n",
       "      <td>30.5</td>\n",
       "      <td>4.332</td>\n",
       "      <td>1.85</td>\n",
       "      <td>142</td>\n",
       "      <td>GHC</td>\n",
       "    </tr>\n",
       "    <tr>\n",
       "      <th>2</th>\n",
       "      <td>497.0</td>\n",
       "      <td>28</td>\n",
       "      <td>488.0</td>\n",
       "      <td>29</td>\n",
       "      <td>490.0</td>\n",
       "      <td>31</td>\n",
       "      <td>158.4</td>\n",
       "      <td>28.1</td>\n",
       "      <td>4.332</td>\n",
       "      <td>1.85</td>\n",
       "      <td>142</td>\n",
       "      <td>GHC</td>\n",
       "    </tr>\n",
       "    <tr>\n",
       "      <th>3</th>\n",
       "      <td>493.0</td>\n",
       "      <td>28</td>\n",
       "      <td>481.0</td>\n",
       "      <td>29</td>\n",
       "      <td>494.0</td>\n",
       "      <td>31</td>\n",
       "      <td>158.4</td>\n",
       "      <td>29.3</td>\n",
       "      <td>4.332</td>\n",
       "      <td>1.85</td>\n",
       "      <td>142</td>\n",
       "      <td>GHC</td>\n",
       "    </tr>\n",
       "    <tr>\n",
       "      <th>4</th>\n",
       "      <td>488.0</td>\n",
       "      <td>28</td>\n",
       "      <td>480.0</td>\n",
       "      <td>29</td>\n",
       "      <td>495.0</td>\n",
       "      <td>31</td>\n",
       "      <td>158.4</td>\n",
       "      <td>29.3</td>\n",
       "      <td>4.332</td>\n",
       "      <td>1.85</td>\n",
       "      <td>142</td>\n",
       "      <td>GHC</td>\n",
       "    </tr>\n",
       "  </tbody>\n",
       "</table>\n",
       "</div>"
      ],
      "text/plain": [
       "   CASING  C_TEMP  IMPELLER  I_TEMP  BEARING  B_TEMP   FLOW  PRESSURE  DC_RA  \\\n",
       "0   491.0      28     492.0      29    484.0      31  158.4      28.1  4.332   \n",
       "1   493.0      28     496.0      29    497.0      31  158.4      30.5  4.332   \n",
       "2   497.0      28     488.0      29    490.0      31  158.4      28.1  4.332   \n",
       "3   493.0      28     481.0      29    494.0      31  158.4      29.3  4.332   \n",
       "4   488.0      28     480.0      29    495.0      31  158.4      29.3  4.332   \n",
       "\n",
       "   CURRENT  VOLTAGE CONDITION  \n",
       "0     1.85      142       GHC  \n",
       "1     1.85      142       GHC  \n",
       "2     1.85      142       GHC  \n",
       "3     1.85      142       GHC  \n",
       "4     1.85      142       GHC  "
      ]
     },
     "execution_count": 112,
     "metadata": {},
     "output_type": "execute_result"
    }
   ],
   "source": [
    "signal_data.head()"
   ]
  },
  {
   "cell_type": "code",
   "execution_count": 113,
   "id": "d223680b",
   "metadata": {
    "scrolled": true
   },
   "outputs": [
    {
     "data": {
      "text/html": [
       "<div>\n",
       "<style scoped>\n",
       "    .dataframe tbody tr th:only-of-type {\n",
       "        vertical-align: middle;\n",
       "    }\n",
       "\n",
       "    .dataframe tbody tr th {\n",
       "        vertical-align: top;\n",
       "    }\n",
       "\n",
       "    .dataframe thead th {\n",
       "        text-align: right;\n",
       "    }\n",
       "</style>\n",
       "<table border=\"1\" class=\"dataframe\">\n",
       "  <thead>\n",
       "    <tr style=\"text-align: right;\">\n",
       "      <th></th>\n",
       "      <th>CASING</th>\n",
       "      <th>C_TEMP</th>\n",
       "      <th>IMPELLER</th>\n",
       "      <th>I_TEMP</th>\n",
       "      <th>BEARING</th>\n",
       "      <th>B_TEMP</th>\n",
       "      <th>FLOW</th>\n",
       "      <th>PRESSURE</th>\n",
       "      <th>DC_RA</th>\n",
       "      <th>CURRENT</th>\n",
       "      <th>VOLTAGE</th>\n",
       "      <th>CONDITION</th>\n",
       "    </tr>\n",
       "  </thead>\n",
       "  <tbody>\n",
       "    <tr>\n",
       "      <th>70057</th>\n",
       "      <td>788.0</td>\n",
       "      <td>28</td>\n",
       "      <td>890.0</td>\n",
       "      <td>29</td>\n",
       "      <td>704.0</td>\n",
       "      <td>31</td>\n",
       "      <td>153.6</td>\n",
       "      <td>12.2</td>\n",
       "      <td>2.34</td>\n",
       "      <td>1.85</td>\n",
       "      <td>291</td>\n",
       "      <td>GHC</td>\n",
       "    </tr>\n",
       "    <tr>\n",
       "      <th>70058</th>\n",
       "      <td>799.0</td>\n",
       "      <td>28</td>\n",
       "      <td>855.0</td>\n",
       "      <td>29</td>\n",
       "      <td>700.0</td>\n",
       "      <td>31</td>\n",
       "      <td>148.8</td>\n",
       "      <td>12.2</td>\n",
       "      <td>2.34</td>\n",
       "      <td>1.85</td>\n",
       "      <td>291</td>\n",
       "      <td>GHC</td>\n",
       "    </tr>\n",
       "    <tr>\n",
       "      <th>70059</th>\n",
       "      <td>806.0</td>\n",
       "      <td>28</td>\n",
       "      <td>793.0</td>\n",
       "      <td>29</td>\n",
       "      <td>781.0</td>\n",
       "      <td>31</td>\n",
       "      <td>153.6</td>\n",
       "      <td>12.2</td>\n",
       "      <td>2.34</td>\n",
       "      <td>1.85</td>\n",
       "      <td>291</td>\n",
       "      <td>GHC</td>\n",
       "    </tr>\n",
       "    <tr>\n",
       "      <th>70060</th>\n",
       "      <td>762.0</td>\n",
       "      <td>28</td>\n",
       "      <td>815.0</td>\n",
       "      <td>29</td>\n",
       "      <td>762.0</td>\n",
       "      <td>31</td>\n",
       "      <td>148.8</td>\n",
       "      <td>11.0</td>\n",
       "      <td>2.34</td>\n",
       "      <td>1.85</td>\n",
       "      <td>291</td>\n",
       "      <td>GHC</td>\n",
       "    </tr>\n",
       "    <tr>\n",
       "      <th>70061</th>\n",
       "      <td>772.0</td>\n",
       "      <td>28</td>\n",
       "      <td>793.0</td>\n",
       "      <td>29</td>\n",
       "      <td>764.0</td>\n",
       "      <td>31</td>\n",
       "      <td>153.6</td>\n",
       "      <td>12.2</td>\n",
       "      <td>2.34</td>\n",
       "      <td>1.85</td>\n",
       "      <td>291</td>\n",
       "      <td>GHC</td>\n",
       "    </tr>\n",
       "  </tbody>\n",
       "</table>\n",
       "</div>"
      ],
      "text/plain": [
       "       CASING  C_TEMP  IMPELLER  I_TEMP  BEARING  B_TEMP   FLOW  PRESSURE  \\\n",
       "70057   788.0      28     890.0      29    704.0      31  153.6      12.2   \n",
       "70058   799.0      28     855.0      29    700.0      31  148.8      12.2   \n",
       "70059   806.0      28     793.0      29    781.0      31  153.6      12.2   \n",
       "70060   762.0      28     815.0      29    762.0      31  148.8      11.0   \n",
       "70061   772.0      28     793.0      29    764.0      31  153.6      12.2   \n",
       "\n",
       "       DC_RA  CURRENT  VOLTAGE CONDITION  \n",
       "70057   2.34     1.85      291       GHC  \n",
       "70058   2.34     1.85      291       GHC  \n",
       "70059   2.34     1.85      291       GHC  \n",
       "70060   2.34     1.85      291       GHC  \n",
       "70061   2.34     1.85      291       GHC  "
      ]
     },
     "execution_count": 113,
     "metadata": {},
     "output_type": "execute_result"
    }
   ],
   "source": [
    "signal_data.tail()"
   ]
  },
  {
   "cell_type": "markdown",
   "id": "c4037b10",
   "metadata": {},
   "source": [
    "### Part 1.1 b - Check for missing values and print percentage for each attribute."
   ]
  },
  {
   "cell_type": "code",
   "execution_count": 114,
   "id": "e046a84e",
   "metadata": {},
   "outputs": [
    {
     "data": {
      "text/plain": [
       "CASING       0.0\n",
       "C_TEMP       0.0\n",
       "IMPELLER     0.0\n",
       "I_TEMP       0.0\n",
       "BEARING      0.0\n",
       "B_TEMP       0.0\n",
       "FLOW         0.0\n",
       "PRESSURE     0.0\n",
       "DC_RA        0.0\n",
       "CURRENT      0.0\n",
       "VOLTAGE      0.0\n",
       "CONDITION    0.0\n",
       "dtype: float64"
      ]
     },
     "execution_count": 114,
     "metadata": {},
     "output_type": "execute_result"
    }
   ],
   "source": [
    "# Let's check for missing values in the data\n",
    "round(signal_data.isnull().sum() / signal_data.isnull().count() * 100, 2)"
   ]
  },
  {
   "cell_type": "code",
   "execution_count": 115,
   "id": "5d0b90ca",
   "metadata": {},
   "outputs": [
    {
     "data": {
      "text/html": [
       "<div>\n",
       "<style scoped>\n",
       "    .dataframe tbody tr th:only-of-type {\n",
       "        vertical-align: middle;\n",
       "    }\n",
       "\n",
       "    .dataframe tbody tr th {\n",
       "        vertical-align: top;\n",
       "    }\n",
       "\n",
       "    .dataframe thead th {\n",
       "        text-align: right;\n",
       "    }\n",
       "</style>\n",
       "<table border=\"1\" class=\"dataframe\">\n",
       "  <thead>\n",
       "    <tr style=\"text-align: right;\">\n",
       "      <th></th>\n",
       "      <th>percent_missing</th>\n",
       "    </tr>\n",
       "  </thead>\n",
       "  <tbody>\n",
       "    <tr>\n",
       "      <th>CASING</th>\n",
       "      <td>0.0</td>\n",
       "    </tr>\n",
       "    <tr>\n",
       "      <th>C_TEMP</th>\n",
       "      <td>0.0</td>\n",
       "    </tr>\n",
       "    <tr>\n",
       "      <th>IMPELLER</th>\n",
       "      <td>0.0</td>\n",
       "    </tr>\n",
       "    <tr>\n",
       "      <th>I_TEMP</th>\n",
       "      <td>0.0</td>\n",
       "    </tr>\n",
       "    <tr>\n",
       "      <th>BEARING</th>\n",
       "      <td>0.0</td>\n",
       "    </tr>\n",
       "    <tr>\n",
       "      <th>B_TEMP</th>\n",
       "      <td>0.0</td>\n",
       "    </tr>\n",
       "    <tr>\n",
       "      <th>FLOW</th>\n",
       "      <td>0.0</td>\n",
       "    </tr>\n",
       "    <tr>\n",
       "      <th>PRESSURE</th>\n",
       "      <td>0.0</td>\n",
       "    </tr>\n",
       "    <tr>\n",
       "      <th>DC_RA</th>\n",
       "      <td>0.0</td>\n",
       "    </tr>\n",
       "    <tr>\n",
       "      <th>CURRENT</th>\n",
       "      <td>0.0</td>\n",
       "    </tr>\n",
       "    <tr>\n",
       "      <th>VOLTAGE</th>\n",
       "      <td>0.0</td>\n",
       "    </tr>\n",
       "    <tr>\n",
       "      <th>CONDITION</th>\n",
       "      <td>0.0</td>\n",
       "    </tr>\n",
       "  </tbody>\n",
       "</table>\n",
       "</div>"
      ],
      "text/plain": [
       "           percent_missing\n",
       "CASING                 0.0\n",
       "C_TEMP                 0.0\n",
       "IMPELLER               0.0\n",
       "I_TEMP                 0.0\n",
       "BEARING                0.0\n",
       "B_TEMP                 0.0\n",
       "FLOW                   0.0\n",
       "PRESSURE               0.0\n",
       "DC_RA                  0.0\n",
       "CURRENT                0.0\n",
       "VOLTAGE                0.0\n",
       "CONDITION              0.0"
      ]
     },
     "execution_count": 115,
     "metadata": {},
     "output_type": "execute_result"
    }
   ],
   "source": [
    "missing_values = [\"n/a\", \"na\", \"--\", \" \",\"?\",\"-\"]\n",
    "percent_missing = signal_data.isin(missing_values).sum()* 100 / len(signal_data)\n",
    "missing_value_df = pd.DataFrame({'percent_missing': percent_missing})\n",
    "missing_value_df"
   ]
  },
  {
   "cell_type": "markdown",
   "id": "f454e297",
   "metadata": {},
   "source": [
    "No missing Value in dataframe"
   ]
  },
  {
   "cell_type": "markdown",
   "id": "070fb754",
   "metadata": {},
   "source": [
    "### Part 1.1 c - Check for presence of duplicate records in the dataset and impute with appropriate method"
   ]
  },
  {
   "cell_type": "code",
   "execution_count": 116,
   "id": "04128819",
   "metadata": {},
   "outputs": [
    {
     "data": {
      "text/plain": [
       "14774"
      ]
     },
     "execution_count": 116,
     "metadata": {},
     "output_type": "execute_result"
    }
   ],
   "source": [
    "# Let's check for duplicate values in the data\n",
    "signal_data.duplicated().sum()"
   ]
  },
  {
   "cell_type": "code",
   "execution_count": 117,
   "id": "4b96c570",
   "metadata": {},
   "outputs": [
    {
     "data": {
      "text/plain": [
       "(70062, 12)"
      ]
     },
     "execution_count": 117,
     "metadata": {},
     "output_type": "execute_result"
    }
   ],
   "source": [
    "signal_data.shape"
   ]
  },
  {
   "cell_type": "code",
   "execution_count": 118,
   "id": "67fcbc23",
   "metadata": {},
   "outputs": [
    {
     "name": "stdout",
     "output_type": "stream",
     "text": [
      "Duplicate Rows :\n"
     ]
    },
    {
     "data": {
      "text/html": [
       "<div>\n",
       "<style scoped>\n",
       "    .dataframe tbody tr th:only-of-type {\n",
       "        vertical-align: middle;\n",
       "    }\n",
       "\n",
       "    .dataframe tbody tr th {\n",
       "        vertical-align: top;\n",
       "    }\n",
       "\n",
       "    .dataframe thead th {\n",
       "        text-align: right;\n",
       "    }\n",
       "</style>\n",
       "<table border=\"1\" class=\"dataframe\">\n",
       "  <thead>\n",
       "    <tr style=\"text-align: right;\">\n",
       "      <th></th>\n",
       "      <th>CASING</th>\n",
       "      <th>C_TEMP</th>\n",
       "      <th>IMPELLER</th>\n",
       "      <th>I_TEMP</th>\n",
       "      <th>BEARING</th>\n",
       "      <th>B_TEMP</th>\n",
       "      <th>FLOW</th>\n",
       "      <th>PRESSURE</th>\n",
       "      <th>DC_RA</th>\n",
       "      <th>CURRENT</th>\n",
       "      <th>VOLTAGE</th>\n",
       "      <th>CONDITION</th>\n",
       "    </tr>\n",
       "  </thead>\n",
       "  <tbody>\n",
       "    <tr>\n",
       "      <th>182</th>\n",
       "      <td>493.0</td>\n",
       "      <td>28</td>\n",
       "      <td>488.0</td>\n",
       "      <td>29</td>\n",
       "      <td>483.0</td>\n",
       "      <td>31</td>\n",
       "      <td>158.4</td>\n",
       "      <td>29.3</td>\n",
       "      <td>4.332</td>\n",
       "      <td>1.85</td>\n",
       "      <td>142</td>\n",
       "      <td>GHC</td>\n",
       "    </tr>\n",
       "    <tr>\n",
       "      <th>224</th>\n",
       "      <td>495.0</td>\n",
       "      <td>28</td>\n",
       "      <td>491.0</td>\n",
       "      <td>29</td>\n",
       "      <td>492.0</td>\n",
       "      <td>31</td>\n",
       "      <td>158.4</td>\n",
       "      <td>29.3</td>\n",
       "      <td>4.332</td>\n",
       "      <td>1.85</td>\n",
       "      <td>142</td>\n",
       "      <td>GHC</td>\n",
       "    </tr>\n",
       "    <tr>\n",
       "      <th>247</th>\n",
       "      <td>491.0</td>\n",
       "      <td>28</td>\n",
       "      <td>496.0</td>\n",
       "      <td>29</td>\n",
       "      <td>491.0</td>\n",
       "      <td>31</td>\n",
       "      <td>158.4</td>\n",
       "      <td>29.3</td>\n",
       "      <td>4.332</td>\n",
       "      <td>1.85</td>\n",
       "      <td>142</td>\n",
       "      <td>GHC</td>\n",
       "    </tr>\n",
       "    <tr>\n",
       "      <th>275</th>\n",
       "      <td>494.0</td>\n",
       "      <td>28</td>\n",
       "      <td>491.0</td>\n",
       "      <td>29</td>\n",
       "      <td>497.0</td>\n",
       "      <td>31</td>\n",
       "      <td>158.4</td>\n",
       "      <td>29.3</td>\n",
       "      <td>4.332</td>\n",
       "      <td>1.85</td>\n",
       "      <td>142</td>\n",
       "      <td>GHC</td>\n",
       "    </tr>\n",
       "    <tr>\n",
       "      <th>277</th>\n",
       "      <td>492.0</td>\n",
       "      <td>28</td>\n",
       "      <td>495.0</td>\n",
       "      <td>29</td>\n",
       "      <td>491.0</td>\n",
       "      <td>31</td>\n",
       "      <td>158.4</td>\n",
       "      <td>29.3</td>\n",
       "      <td>4.332</td>\n",
       "      <td>1.85</td>\n",
       "      <td>142</td>\n",
       "      <td>GHC</td>\n",
       "    </tr>\n",
       "    <tr>\n",
       "      <th>...</th>\n",
       "      <td>...</td>\n",
       "      <td>...</td>\n",
       "      <td>...</td>\n",
       "      <td>...</td>\n",
       "      <td>...</td>\n",
       "      <td>...</td>\n",
       "      <td>...</td>\n",
       "      <td>...</td>\n",
       "      <td>...</td>\n",
       "      <td>...</td>\n",
       "      <td>...</td>\n",
       "      <td>...</td>\n",
       "    </tr>\n",
       "    <tr>\n",
       "      <th>65790</th>\n",
       "      <td>787.0</td>\n",
       "      <td>28</td>\n",
       "      <td>942.0</td>\n",
       "      <td>29</td>\n",
       "      <td>765.0</td>\n",
       "      <td>31</td>\n",
       "      <td>153.6</td>\n",
       "      <td>12.2</td>\n",
       "      <td>2.340</td>\n",
       "      <td>1.85</td>\n",
       "      <td>291</td>\n",
       "      <td>GHC</td>\n",
       "    </tr>\n",
       "    <tr>\n",
       "      <th>67449</th>\n",
       "      <td>790.0</td>\n",
       "      <td>28</td>\n",
       "      <td>726.0</td>\n",
       "      <td>29</td>\n",
       "      <td>780.0</td>\n",
       "      <td>31</td>\n",
       "      <td>153.6</td>\n",
       "      <td>12.2</td>\n",
       "      <td>2.340</td>\n",
       "      <td>1.85</td>\n",
       "      <td>291</td>\n",
       "      <td>GHC</td>\n",
       "    </tr>\n",
       "    <tr>\n",
       "      <th>67872</th>\n",
       "      <td>795.0</td>\n",
       "      <td>28</td>\n",
       "      <td>719.0</td>\n",
       "      <td>29</td>\n",
       "      <td>740.0</td>\n",
       "      <td>31</td>\n",
       "      <td>148.8</td>\n",
       "      <td>12.2</td>\n",
       "      <td>2.340</td>\n",
       "      <td>1.85</td>\n",
       "      <td>291</td>\n",
       "      <td>GHC</td>\n",
       "    </tr>\n",
       "    <tr>\n",
       "      <th>69217</th>\n",
       "      <td>775.0</td>\n",
       "      <td>28</td>\n",
       "      <td>835.0</td>\n",
       "      <td>29</td>\n",
       "      <td>775.0</td>\n",
       "      <td>31</td>\n",
       "      <td>148.8</td>\n",
       "      <td>12.2</td>\n",
       "      <td>2.340</td>\n",
       "      <td>1.85</td>\n",
       "      <td>291</td>\n",
       "      <td>GHC</td>\n",
       "    </tr>\n",
       "    <tr>\n",
       "      <th>69990</th>\n",
       "      <td>797.0</td>\n",
       "      <td>28</td>\n",
       "      <td>884.0</td>\n",
       "      <td>29</td>\n",
       "      <td>747.0</td>\n",
       "      <td>31</td>\n",
       "      <td>148.8</td>\n",
       "      <td>12.2</td>\n",
       "      <td>2.340</td>\n",
       "      <td>1.85</td>\n",
       "      <td>291</td>\n",
       "      <td>GHC</td>\n",
       "    </tr>\n",
       "  </tbody>\n",
       "</table>\n",
       "<p>14774 rows × 12 columns</p>\n",
       "</div>"
      ],
      "text/plain": [
       "       CASING  C_TEMP  IMPELLER  I_TEMP  BEARING  B_TEMP   FLOW  PRESSURE  \\\n",
       "182     493.0      28     488.0      29    483.0      31  158.4      29.3   \n",
       "224     495.0      28     491.0      29    492.0      31  158.4      29.3   \n",
       "247     491.0      28     496.0      29    491.0      31  158.4      29.3   \n",
       "275     494.0      28     491.0      29    497.0      31  158.4      29.3   \n",
       "277     492.0      28     495.0      29    491.0      31  158.4      29.3   \n",
       "...       ...     ...       ...     ...      ...     ...    ...       ...   \n",
       "65790   787.0      28     942.0      29    765.0      31  153.6      12.2   \n",
       "67449   790.0      28     726.0      29    780.0      31  153.6      12.2   \n",
       "67872   795.0      28     719.0      29    740.0      31  148.8      12.2   \n",
       "69217   775.0      28     835.0      29    775.0      31  148.8      12.2   \n",
       "69990   797.0      28     884.0      29    747.0      31  148.8      12.2   \n",
       "\n",
       "       DC_RA  CURRENT  VOLTAGE CONDITION  \n",
       "182    4.332     1.85      142       GHC  \n",
       "224    4.332     1.85      142       GHC  \n",
       "247    4.332     1.85      142       GHC  \n",
       "275    4.332     1.85      142       GHC  \n",
       "277    4.332     1.85      142       GHC  \n",
       "...      ...      ...      ...       ...  \n",
       "65790  2.340     1.85      291       GHC  \n",
       "67449  2.340     1.85      291       GHC  \n",
       "67872  2.340     1.85      291       GHC  \n",
       "69217  2.340     1.85      291       GHC  \n",
       "69990  2.340     1.85      291       GHC  \n",
       "\n",
       "[14774 rows x 12 columns]"
      ]
     },
     "execution_count": 118,
     "metadata": {},
     "output_type": "execute_result"
    }
   ],
   "source": [
    "duplicate_df = signal_data[signal_data.duplicated()]\n",
    " \n",
    "print(\"Duplicate Rows :\")\n",
    "\n",
    "duplicate_df"
   ]
  },
  {
   "cell_type": "code",
   "execution_count": 119,
   "id": "9f563f41",
   "metadata": {},
   "outputs": [],
   "source": [
    "signal_data= signal_data.drop_duplicates()"
   ]
  },
  {
   "cell_type": "code",
   "execution_count": 120,
   "id": "6549bdf6",
   "metadata": {},
   "outputs": [
    {
     "name": "stdout",
     "output_type": "stream",
     "text": [
      "The shape of Total no of Duplicates in DataFrame  (14774, 12)\n",
      "The shape of data frame after removing Duplicates (55288, 12)\n"
     ]
    }
   ],
   "source": [
    "print (\"The shape of Total no of Duplicates in DataFrame \", duplicate_df.shape)\n",
    "print (\"The shape of data frame after removing Duplicates\", signal_data.shape)\n"
   ]
  },
  {
   "cell_type": "markdown",
   "id": "363aeb06",
   "metadata": {},
   "source": [
    "### Part 1.1 d- Visualise distribution of the target variable."
   ]
  },
  {
   "cell_type": "code",
   "execution_count": 121,
   "id": "68e6ac92",
   "metadata": {},
   "outputs": [],
   "source": [
    "import matplotlib.pyplot as plt \n",
    "import seaborn as sns "
   ]
  },
  {
   "cell_type": "code",
   "execution_count": 122,
   "id": "74499325",
   "metadata": {},
   "outputs": [
    {
     "data": {
      "text/plain": [
       "GHC    16846\n",
       "IBF    15000\n",
       "IF     14999\n",
       "MA      8443\n",
       "Name: CONDITION, dtype: int64"
      ]
     },
     "execution_count": 122,
     "metadata": {},
     "output_type": "execute_result"
    }
   ],
   "source": [
    "signal_data[\"CONDITION\"].value_counts()"
   ]
  },
  {
   "cell_type": "code",
   "execution_count": 123,
   "id": "51be398a",
   "metadata": {},
   "outputs": [
    {
     "data": {
      "text/plain": [
       "<AxesSubplot:>"
      ]
     },
     "execution_count": 123,
     "metadata": {},
     "output_type": "execute_result"
    },
    {
     "data": {
      "image/png": "[encoded data removed]",
      "text/plain": [
       "<Figure size 720x360 with 1 Axes>"
      ]
     },
     "metadata": {
      "needs_background": "light"
     },
     "output_type": "display_data"
    }
   ],
   "source": [
    "fig = plt.figure(figsize =(10, 5))\n",
    "signal_data['CONDITION'].value_counts().plot.bar()"
   ]
  },
  {
   "cell_type": "code",
   "execution_count": 124,
   "id": "258d8c1a",
   "metadata": {},
   "outputs": [
    {
     "data": {
      "text/plain": [
       "<AxesSubplot:ylabel='CONDITION'>"
      ]
     },
     "execution_count": 124,
     "metadata": {},
     "output_type": "execute_result"
    },
    {
     "data": {
      "image/png": "[encoded data removed]",
      "text/plain": [
       "<Figure size 720x720 with 1 Axes>"
      ]
     },
     "metadata": {},
     "output_type": "display_data"
    }
   ],
   "source": [
    "fig = plt.figure(figsize =(10, 10))\n",
    "signal_data['CONDITION'].value_counts().plot.pie(autopct='%1.1f%%',shadow=True,)"
   ]
  },
  {
   "cell_type": "code",
   "execution_count": 125,
   "id": "c25e7096",
   "metadata": {},
   "outputs": [],
   "source": [
    "signal_data['CONDITION'].replace(['GHC', 'IF','IBF','MA'],\n",
    "                        [0, 1,2,3], inplace=True)"
   ]
  },
  {
   "cell_type": "markdown",
   "id": "1d5f4e00",
   "metadata": {},
   "source": [
    "### Part 1.1 e- - Share insights from the initial data analysis (at least 2)."
   ]
  },
  {
   "cell_type": "code",
   "execution_count": 126,
   "id": "72fddc96",
   "metadata": {},
   "outputs": [
    {
     "data": {
      "text/html": [
       "<div>\n",
       "<style scoped>\n",
       "    .dataframe tbody tr th:only-of-type {\n",
       "        vertical-align: middle;\n",
       "    }\n",
       "\n",
       "    .dataframe tbody tr th {\n",
       "        vertical-align: top;\n",
       "    }\n",
       "\n",
       "    .dataframe thead th {\n",
       "        text-align: right;\n",
       "    }\n",
       "</style>\n",
       "<table border=\"1\" class=\"dataframe\">\n",
       "  <thead>\n",
       "    <tr style=\"text-align: right;\">\n",
       "      <th></th>\n",
       "      <th>CASING</th>\n",
       "      <th>C_TEMP</th>\n",
       "      <th>IMPELLER</th>\n",
       "      <th>I_TEMP</th>\n",
       "      <th>BEARING</th>\n",
       "      <th>B_TEMP</th>\n",
       "      <th>FLOW</th>\n",
       "      <th>PRESSURE</th>\n",
       "      <th>DC_RA</th>\n",
       "      <th>CURRENT</th>\n",
       "      <th>VOLTAGE</th>\n",
       "      <th>CONDITION</th>\n",
       "    </tr>\n",
       "  </thead>\n",
       "  <tbody>\n",
       "    <tr>\n",
       "      <th>count</th>\n",
       "      <td>55288.000000</td>\n",
       "      <td>55288.000000</td>\n",
       "      <td>55288.000000</td>\n",
       "      <td>55288.000000</td>\n",
       "      <td>55288.000000</td>\n",
       "      <td>55288.000000</td>\n",
       "      <td>55288.000000</td>\n",
       "      <td>55288.000000</td>\n",
       "      <td>55288.000000</td>\n",
       "      <td>55288.000000</td>\n",
       "      <td>55288.000000</td>\n",
       "      <td>55288.000000</td>\n",
       "    </tr>\n",
       "    <tr>\n",
       "      <th>mean</th>\n",
       "      <td>369.259326</td>\n",
       "      <td>28.814155</td>\n",
       "      <td>355.277057</td>\n",
       "      <td>29.272012</td>\n",
       "      <td>367.978667</td>\n",
       "      <td>37.410849</td>\n",
       "      <td>136.774562</td>\n",
       "      <td>17.442544</td>\n",
       "      <td>3.747684</td>\n",
       "      <td>1.639011</td>\n",
       "      <td>172.407611</td>\n",
       "      <td>1.272030</td>\n",
       "    </tr>\n",
       "    <tr>\n",
       "      <th>std</th>\n",
       "      <td>197.034655</td>\n",
       "      <td>1.400032</td>\n",
       "      <td>224.682857</td>\n",
       "      <td>1.351899</td>\n",
       "      <td>194.342306</td>\n",
       "      <td>4.525849</td>\n",
       "      <td>14.943026</td>\n",
       "      <td>6.897465</td>\n",
       "      <td>0.921077</td>\n",
       "      <td>0.311715</td>\n",
       "      <td>52.702964</td>\n",
       "      <td>1.054922</td>\n",
       "    </tr>\n",
       "    <tr>\n",
       "      <th>min</th>\n",
       "      <td>182.426667</td>\n",
       "      <td>27.000000</td>\n",
       "      <td>154.080000</td>\n",
       "      <td>26.000000</td>\n",
       "      <td>168.013333</td>\n",
       "      <td>31.000000</td>\n",
       "      <td>110.400000</td>\n",
       "      <td>11.000000</td>\n",
       "      <td>2.340000</td>\n",
       "      <td>1.350000</td>\n",
       "      <td>142.000000</td>\n",
       "      <td>0.000000</td>\n",
       "    </tr>\n",
       "    <tr>\n",
       "      <th>25%</th>\n",
       "      <td>219.146667</td>\n",
       "      <td>28.000000</td>\n",
       "      <td>175.720000</td>\n",
       "      <td>29.000000</td>\n",
       "      <td>209.943333</td>\n",
       "      <td>31.000000</td>\n",
       "      <td>120.000000</td>\n",
       "      <td>12.200000</td>\n",
       "      <td>2.340000</td>\n",
       "      <td>1.350000</td>\n",
       "      <td>142.000000</td>\n",
       "      <td>0.000000</td>\n",
       "    </tr>\n",
       "    <tr>\n",
       "      <th>50%</th>\n",
       "      <td>231.400000</td>\n",
       "      <td>28.000000</td>\n",
       "      <td>183.133333</td>\n",
       "      <td>29.000000</td>\n",
       "      <td>223.000000</td>\n",
       "      <td>40.000000</td>\n",
       "      <td>144.000000</td>\n",
       "      <td>13.500000</td>\n",
       "      <td>4.332000</td>\n",
       "      <td>1.350000</td>\n",
       "      <td>142.000000</td>\n",
       "      <td>1.000000</td>\n",
       "    </tr>\n",
       "    <tr>\n",
       "      <th>75%</th>\n",
       "      <td>490.000000</td>\n",
       "      <td>31.000000</td>\n",
       "      <td>487.533333</td>\n",
       "      <td>30.000000</td>\n",
       "      <td>480.533333</td>\n",
       "      <td>41.000000</td>\n",
       "      <td>148.800000</td>\n",
       "      <td>20.800000</td>\n",
       "      <td>4.332000</td>\n",
       "      <td>1.890000</td>\n",
       "      <td>217.000000</td>\n",
       "      <td>2.000000</td>\n",
       "    </tr>\n",
       "    <tr>\n",
       "      <th>max</th>\n",
       "      <td>829.000000</td>\n",
       "      <td>31.000000</td>\n",
       "      <td>955.000000</td>\n",
       "      <td>32.000000</td>\n",
       "      <td>836.000000</td>\n",
       "      <td>43.000000</td>\n",
       "      <td>158.400000</td>\n",
       "      <td>36.600000</td>\n",
       "      <td>4.466000</td>\n",
       "      <td>2.230000</td>\n",
       "      <td>291.000000</td>\n",
       "      <td>3.000000</td>\n",
       "    </tr>\n",
       "  </tbody>\n",
       "</table>\n",
       "</div>"
      ],
      "text/plain": [
       "             CASING        C_TEMP      IMPELLER        I_TEMP       BEARING  \\\n",
       "count  55288.000000  55288.000000  55288.000000  55288.000000  55288.000000   \n",
       "mean     369.259326     28.814155    355.277057     29.272012    367.978667   \n",
       "std      197.034655      1.400032    224.682857      1.351899    194.342306   \n",
       "min      182.426667     27.000000    154.080000     26.000000    168.013333   \n",
       "25%      219.146667     28.000000    175.720000     29.000000    209.943333   \n",
       "50%      231.400000     28.000000    183.133333     29.000000    223.000000   \n",
       "75%      490.000000     31.000000    487.533333     30.000000    480.533333   \n",
       "max      829.000000     31.000000    955.000000     32.000000    836.000000   \n",
       "\n",
       "             B_TEMP          FLOW      PRESSURE         DC_RA       CURRENT  \\\n",
       "count  55288.000000  55288.000000  55288.000000  55288.000000  55288.000000   \n",
       "mean      37.410849    136.774562     17.442544      3.747684      1.639011   \n",
       "std        4.525849     14.943026      6.897465      0.921077      0.311715   \n",
       "min       31.000000    110.400000     11.000000      2.340000      1.350000   \n",
       "25%       31.000000    120.000000     12.200000      2.340000      1.350000   \n",
       "50%       40.000000    144.000000     13.500000      4.332000      1.350000   \n",
       "75%       41.000000    148.800000     20.800000      4.332000      1.890000   \n",
       "max       43.000000    158.400000     36.600000      4.466000      2.230000   \n",
       "\n",
       "            VOLTAGE     CONDITION  \n",
       "count  55288.000000  55288.000000  \n",
       "mean     172.407611      1.272030  \n",
       "std       52.702964      1.054922  \n",
       "min      142.000000      0.000000  \n",
       "25%      142.000000      0.000000  \n",
       "50%      142.000000      1.000000  \n",
       "75%      217.000000      2.000000  \n",
       "max      291.000000      3.000000  "
      ]
     },
     "execution_count": 126,
     "metadata": {},
     "output_type": "execute_result"
    }
   ],
   "source": [
    "signal_data.describe()"
   ]
  },
  {
   "cell_type": "code",
   "execution_count": 127,
   "id": "3067098a",
   "metadata": {},
   "outputs": [
    {
     "name": "stdout",
     "output_type": "stream",
     "text": [
      "<class 'pandas.core.frame.DataFrame'>\n",
      "Int64Index: 55288 entries, 0 to 70061\n",
      "Data columns (total 12 columns):\n",
      " #   Column     Non-Null Count  Dtype  \n",
      "---  ------     --------------  -----  \n",
      " 0   CASING     55288 non-null  float64\n",
      " 1   C_TEMP     55288 non-null  int64  \n",
      " 2   IMPELLER   55288 non-null  float64\n",
      " 3   I_TEMP     55288 non-null  int64  \n",
      " 4   BEARING    55288 non-null  float64\n",
      " 5   B_TEMP     55288 non-null  int64  \n",
      " 6   FLOW       55288 non-null  float64\n",
      " 7   PRESSURE   55288 non-null  float64\n",
      " 8   DC_RA      55288 non-null  float64\n",
      " 9   CURRENT    55288 non-null  float64\n",
      " 10  VOLTAGE    55288 non-null  int64  \n",
      " 11  CONDITION  55288 non-null  int64  \n",
      "dtypes: float64(7), int64(5)\n",
      "memory usage: 5.5 MB\n"
     ]
    }
   ],
   "source": [
    "signal_data.info()"
   ]
  },
  {
   "cell_type": "markdown",
   "id": "a2f0862c",
   "metadata": {},
   "source": [
    "1) Signals generated need to be normalized and scaled as they are in different range as well as you can observe parameters like 7 which is skewed too.\n",
    "\n",
    "2) The Target variable signal ranges between 5-6 has captured almost 82% of data."
   ]
  },
  {
   "cell_type": "markdown",
   "id": "1a76095d",
   "metadata": {},
   "source": [
    "### Part 1.2 a - Split the data into X & Y.."
   ]
  },
  {
   "cell_type": "code",
   "execution_count": 128,
   "id": "6e8e06fb",
   "metadata": {},
   "outputs": [],
   "source": [
    "import sklearn\n",
    "from sklearn.model_selection import train_test_split\n",
    "\n",
    "# Independent variables\n",
    "X=signal_data.drop('CONDITION',axis=1)  \n",
    "\n",
    "# Target variable\n",
    "Y=signal_data['CONDITION']               \n",
    "\n"
   ]
  },
  {
   "cell_type": "markdown",
   "id": "72f9880a",
   "metadata": {},
   "source": [
    "### Part 1.2 b - Split the data into train & test with 70:30 proportion."
   ]
  },
  {
   "cell_type": "code",
   "execution_count": 129,
   "id": "afdddaa0",
   "metadata": {},
   "outputs": [],
   "source": [
    "X_Train,X_Test,Y_Train,Y_Test=train_test_split(X, Y, train_size=0.7, random_state=42)"
   ]
  },
  {
   "cell_type": "markdown",
   "id": "67acb557",
   "metadata": {},
   "source": [
    "### Part 1.2 c - Print shape of all the 4 variables and verify if train and test data is in sync."
   ]
  },
  {
   "cell_type": "code",
   "execution_count": 130,
   "id": "22dc54ff",
   "metadata": {},
   "outputs": [
    {
     "name": "stdout",
     "output_type": "stream",
     "text": [
      "(38701, 11)\n",
      "(16587, 11)\n",
      "(38701,)\n",
      "(16587,)\n"
     ]
    }
   ],
   "source": [
    "print(X_Train.shape)\n",
    "print(X_Test.shape)\n",
    "print(Y_Train.shape)\n",
    "print(Y_Test.shape)"
   ]
  },
  {
   "cell_type": "markdown",
   "id": "02dce5ae",
   "metadata": {},
   "source": [
    "### Part 1.2 d - Normalise the train and test data with appropriate method.."
   ]
  },
  {
   "cell_type": "code",
   "execution_count": 131,
   "id": "f8362883",
   "metadata": {},
   "outputs": [],
   "source": [
    "from sklearn.preprocessing import StandardScaler\n",
    "\n",
    "# Scaling train data\n",
    "X_Train_S = StandardScaler().fit_transform(X_Train) \n",
    "\n",
    "# Scaling test data\n",
    "X_Test_S = StandardScaler().fit_transform(X_Test)     "
   ]
  },
  {
   "cell_type": "markdown",
   "id": "18c3c7c7",
   "metadata": {},
   "source": [
    "### Part 1.2 e - Transform Labels into format acceptable by Neural Network"
   ]
  },
  {
   "cell_type": "code",
   "execution_count": 132,
   "id": "b4694882",
   "metadata": {},
   "outputs": [],
   "source": [
    "# Converting y data into categorical (one-hot encoding)\n",
    "from keras.utils.np_utils import to_categorical\n",
    "Y_Train = to_categorical(Y_Train)\n",
    "Y_Test = to_categorical(Y_Test) "
   ]
  },
  {
   "cell_type": "markdown",
   "id": "943ee17c",
   "metadata": {},
   "source": [
    "### Part 1.3 a - Design a Neural Network to train a classifier."
   ]
  },
  {
   "cell_type": "code",
   "execution_count": 133,
   "id": "7ce12216",
   "metadata": {},
   "outputs": [
    {
     "name": "stdout",
     "output_type": "stream",
     "text": [
      "Model: \"sequential_3\"\n",
      "_________________________________________________________________\n",
      " Layer (type)                Output Shape              Param #   \n",
      "=================================================================\n",
      " dense_15 (Dense)            (None, 128)               1536      \n",
      "                                                                 \n",
      " dense_16 (Dense)            (None, 64)                8256      \n",
      "                                                                 \n",
      " dense_17 (Dense)            (None, 32)                2080      \n",
      "                                                                 \n",
      " leaky_re_lu_6 (LeakyReLU)   (None, 32)                0         \n",
      "                                                                 \n",
      " dense_18 (Dense)            (None, 16)                528       \n",
      "                                                                 \n",
      " leaky_re_lu_7 (LeakyReLU)   (None, 16)                0         \n",
      "                                                                 \n",
      " dense_19 (Dense)            (None, 4)                 68        \n",
      "                                                                 \n",
      "=================================================================\n",
      "Total params: 12,468\n",
      "Trainable params: 12,468\n",
      "Non-trainable params: 0\n",
      "_________________________________________________________________\n"
     ]
    }
   ],
   "source": [
    "from keras.models import Sequential # Forward prop\n",
    "from keras.layers import Dense, Activation, LeakyReLU\n",
    "from keras import optimizers\n",
    "\n",
    "NN_model_Classifier_SGD = Sequential()\n",
    "\n",
    "# The Input Layer :\n",
    "NN_model_Classifier_SGD.add(Dense(128, kernel_initializer='normal',input_dim = X_Train_S.shape[1], activation='relu'))\n",
    "\n",
    "# The Hidden Layers :\n",
    "NN_model_Classifier_SGD.add(Dense(64, kernel_initializer='normal',activation='relu'))  # sigmoid, tanh\n",
    "\n",
    "NN_model_Classifier_SGD.add(Dense(32, kernel_initializer='normal'))\n",
    "NN_model_Classifier_SGD.add(LeakyReLU(alpha=0.1))\n",
    "\n",
    "NN_model_Classifier_SGD.add(Dense(16, kernel_initializer='normal'))\n",
    "NN_model_Classifier_SGD.add(LeakyReLU(alpha=0.1))\n",
    "\n",
    "\n",
    "# The Output Layer :\n",
    "NN_model_Classifier_SGD.add(Dense(4, kernel_initializer='normal',activation='softmax'))  # except softmax\n",
    "\n",
    "# Compile the network :\n",
    "NN_model_Classifier_SGD.compile(loss='categorical_crossentropy', optimizer='SGD', metrics=['accuracy'])\n",
    "NN_model_Classifier_SGD.summary()"
   ]
  },
  {
   "cell_type": "markdown",
   "id": "03ad815b",
   "metadata": {},
   "source": [
    "### Part 1.3 b - Train the classifier using previously designed Architecture"
   ]
  },
  {
   "cell_type": "code",
   "execution_count": 134,
   "id": "6a7236bf",
   "metadata": {},
   "outputs": [
    {
     "name": "stdout",
     "output_type": "stream",
     "text": [
      "Epoch 1/20\n",
      "388/388 [==============================] - 1s 2ms/step - loss: 1.3711 - accuracy: 0.3021 - val_loss: 1.3621 - val_accuracy: 0.3076\n",
      "Epoch 2/20\n",
      "388/388 [==============================] - 1s 2ms/step - loss: 1.3595 - accuracy: 0.3035 - val_loss: 1.3573 - val_accuracy: 0.3076\n",
      "Epoch 3/20\n",
      "388/388 [==============================] - 1s 2ms/step - loss: 1.3569 - accuracy: 0.3035 - val_loss: 1.3559 - val_accuracy: 0.3076\n",
      "Epoch 4/20\n",
      "388/388 [==============================] - 1s 2ms/step - loss: 1.3559 - accuracy: 0.3035 - val_loss: 1.3551 - val_accuracy: 0.3076\n",
      "Epoch 5/20\n",
      "388/388 [==============================] - 1s 2ms/step - loss: 1.3550 - accuracy: 0.3035 - val_loss: 1.3540 - val_accuracy: 0.3076\n",
      "Epoch 6/20\n",
      "388/388 [==============================] - 1s 2ms/step - loss: 1.3534 - accuracy: 0.3035 - val_loss: 1.3517 - val_accuracy: 0.3076\n",
      "Epoch 7/20\n",
      "388/388 [==============================] - 1s 2ms/step - loss: 1.3495 - accuracy: 0.3035 - val_loss: 1.3452 - val_accuracy: 0.3076\n",
      "Epoch 8/20\n",
      "388/388 [==============================] - 1s 2ms/step - loss: 1.3352 - accuracy: 0.3035 - val_loss: 1.3157 - val_accuracy: 0.3076\n",
      "Epoch 9/20\n",
      "388/388 [==============================] - 1s 2ms/step - loss: 1.2209 - accuracy: 0.5489 - val_loss: 1.0107 - val_accuracy: 0.5795\n",
      "Epoch 10/20\n",
      "388/388 [==============================] - 1s 2ms/step - loss: 0.7960 - accuracy: 0.5747 - val_loss: 0.6496 - val_accuracy: 0.5873\n",
      "Epoch 11/20\n",
      "388/388 [==============================] - 1s 2ms/step - loss: 0.5543 - accuracy: 0.6662 - val_loss: 0.4499 - val_accuracy: 0.7217\n",
      "Epoch 12/20\n",
      "388/388 [==============================] - 1s 2ms/step - loss: 0.3163 - accuracy: 0.9038 - val_loss: 0.1662 - val_accuracy: 1.0000\n",
      "Epoch 13/20\n",
      "388/388 [==============================] - 1s 2ms/step - loss: 0.0864 - accuracy: 1.0000 - val_loss: 0.0410 - val_accuracy: 1.0000\n",
      "Epoch 14/20\n",
      "388/388 [==============================] - 1s 2ms/step - loss: 0.0265 - accuracy: 1.0000 - val_loss: 0.0170 - val_accuracy: 1.0000\n",
      "Epoch 15/20\n",
      "388/388 [==============================] - 1s 2ms/step - loss: 0.0127 - accuracy: 1.0000 - val_loss: 0.0095 - val_accuracy: 1.0000\n",
      "Epoch 16/20\n",
      "388/388 [==============================] - 1s 2ms/step - loss: 0.0077 - accuracy: 1.0000 - val_loss: 0.0062 - val_accuracy: 1.0000\n",
      "Epoch 17/20\n",
      "388/388 [==============================] - 1s 2ms/step - loss: 0.0052 - accuracy: 1.0000 - val_loss: 0.0044 - val_accuracy: 1.0000\n",
      "Epoch 18/20\n",
      "388/388 [==============================] - 1s 2ms/step - loss: 0.0039 - accuracy: 1.0000 - val_loss: 0.0034 - val_accuracy: 1.0000\n",
      "Epoch 19/20\n",
      "388/388 [==============================] - 1s 2ms/step - loss: 0.0030 - accuracy: 1.0000 - val_loss: 0.0027 - val_accuracy: 1.0000\n",
      "Epoch 20/20\n",
      "388/388 [==============================] - 1s 2ms/step - loss: 0.0024 - accuracy: 1.0000 - val_loss: 0.0022 - val_accuracy: 1.0000\n"
     ]
    }
   ],
   "source": [
    "EPOCH=20\n",
    "Network_Classifier_SGD=NN_model_Classifier_SGD.fit(X_Train_S, Y_Train, validation_data=(X_Test_S,Y_Test), epochs=EPOCH, batch_size=100)"
   ]
  },
  {
   "cell_type": "markdown",
   "id": "16330bb6",
   "metadata": {},
   "source": [
    "### Part 1.3 c - Plot 2 separate visuals.\n",
    "\n",
    "i) Training Loss and Validation Loss\n",
    "\n",
    "ii) Training Accuracy and Validation Accuracy"
   ]
  },
  {
   "cell_type": "code",
   "execution_count": 135,
   "id": "a719cd18",
   "metadata": {},
   "outputs": [
    {
     "data": {
      "image/png": "[encoded data removed]",
      "text/plain": [
       "<Figure size 432x288 with 1 Axes>"
      ]
     },
     "metadata": {
      "needs_background": "light"
     },
     "output_type": "display_data"
    }
   ],
   "source": [
    "loss_train_SGD = Network_Classifier_SGD.history['loss']\n",
    "loss_val_SGD = Network_Classifier_SGD.history['val_loss']\n",
    "epochs = range(1,EPOCH+1)\n",
    "plt.plot(epochs, loss_train_SGD, 'g', label='Training loss')\n",
    "plt.plot(epochs, loss_val_SGD, 'b', label='validation loss')\n",
    "plt.title('Training and Validation loss')\n",
    "plt.xlabel('Epochs')\n",
    "plt.ylabel('Loss')\n",
    "plt.legend()\n",
    "plt.show()"
   ]
  },
  {
   "cell_type": "code",
   "execution_count": 136,
   "id": "490ee26f",
   "metadata": {},
   "outputs": [
    {
     "data": {
      "image/png": "[encoded data removed]",
      "text/plain": [
       "<Figure size 432x288 with 1 Axes>"
      ]
     },
     "metadata": {
      "needs_background": "light"
     },
     "output_type": "display_data"
    }
   ],
   "source": [
    "Acc_train_SGD = Network_Classifier_SGD.history['accuracy']\n",
    "Acc_val_SGD = Network_Classifier_SGD.history['val_accuracy']\n",
    "epochs = range(1,EPOCH+1)\n",
    "plt.plot(epochs, Acc_train_SGD, 'g', label='Training accuracy')\n",
    "plt.plot(epochs, Acc_val_SGD, 'b', label='validation accuracy')\n",
    "plt.title('Training and Validation accuracy')\n",
    "plt.xlabel('Epochs')\n",
    "plt.ylabel('accuracy')\n",
    "plt.legend()\n",
    "plt.show()"
   ]
  }
 ],
 "metadata": {
  "kernelspec": {
   "display_name": "Python 3 (ipykernel)",
   "language": "python",
   "name": "python3"
  },
  "language_info": {
   "codemirror_mode": {
    "name": "ipython",
    "version": 3
   },
   "file_extension": ".py",
   "mimetype": "text/x-python",
   "name": "python",
   "nbconvert_exporter": "python",
   "pygments_lexer": "ipython3",
   "version": "3.9.12"
  }
 },
 "nbformat": 4,
 "nbformat_minor": 5
}
